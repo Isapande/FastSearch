{
 "cells": [
  {
   "cell_type": "markdown",
   "id": "701c9862",
   "metadata": {},
   "source": [
    "## Contents\n",
    "\n",
    "0. Set up \n",
    "1. Parser\n",
    "\n",
    "Please insert the path of the folder you want to inspect as well as the keyword(s) you are looking for. "
   ]
  },
  {
   "cell_type": "markdown",
   "id": "8ffd8229",
   "metadata": {},
   "source": [
    "### 0. Set up"
   ]
  },
  {
   "cell_type": "code",
   "execution_count": null,
   "id": "d68208e7",
   "metadata": {},
   "outputs": [],
   "source": [
    "pip install python-docx openpyxl PyMuPDF"
   ]
  },
  {
   "cell_type": "code",
   "execution_count": null,
   "id": "45796b46",
   "metadata": {},
   "outputs": [],
   "source": [
    "import os\n",
    "import glob\n",
    "import docx\n",
    "import openpyxl\n",
    "import fitz  \n",
    "from concurrent.futures import ThreadPoolExecutor"
   ]
  },
  {
   "cell_type": "markdown",
   "id": "d7e703fb",
   "metadata": {},
   "source": [
    "### 1. Parser"
   ]
  },
  {
   "cell_type": "code",
   "execution_count": null,
   "id": "0373c0f0",
   "metadata": {},
   "outputs": [],
   "source": [
    "# Define the folder path and keywords to search for\n",
    "folder_path = r''  # Replace with your folder path\n",
    "keywords = ['', ''] # Insert keywords \n",
    "\n",
    "# Function to search for keywords in PDF files using PyMuPDF\n",
    "def search_pdf(file_path, keywords):\n",
    "    try:\n",
    "        pdf_document = fitz.open(file_path)\n",
    "        found_sentences = []\n",
    "        for page_num in range(len(pdf_document)):\n",
    "            page = pdf_document[page_num]\n",
    "            text = page.get_text()\n",
    "            for line in text.split('\\n'):\n",
    "                for keyword in keywords:\n",
    "                    if keyword in line:\n",
    "                        found_sentences.append(line)\n",
    "        return found_sentences\n",
    "    except Exception as e:\n",
    "        print(f\"Error processing PDF file {file_path}: {e}\")\n",
    "        return []\n",
    "\n",
    "# Function to search for keywords in Word files using python-docx\n",
    "def search_word(file_path, keywords):\n",
    "    try:\n",
    "        doc = docx.Document(file_path)\n",
    "        found_sentences = []\n",
    "        for paragraph in doc.paragraphs:\n",
    "            for keyword in keywords:\n",
    "                if keyword in paragraph.text:\n",
    "                    found_sentences.append(paragraph.text)\n",
    "        return found_sentences\n",
    "    except Exception as e:\n",
    "        print(f\"Error processing Word file {file_path}: {e}\")\n",
    "        return []\n",
    "\n",
    "# Function to search for keywords in Excel files\n",
    "def search_excel(file_path, keywords):\n",
    "    try:\n",
    "        wb = openpyxl.load_workbook(file_path, read_only=True)\n",
    "        found_sentences = []\n",
    "        for sheet in wb:\n",
    "            for row in sheet.iter_rows():\n",
    "                for cell in row:\n",
    "                    for keyword in keywords:\n",
    "                        if keyword in str(cell.value):\n",
    "                            found_sentences.append(str(cell.value))\n",
    "        return found_sentences\n",
    "    except Exception as e:\n",
    "        print(f\"Error processing Excel file {file_path}: {e}\")\n",
    "        return []\n",
    "\n",
    "# Search for keywords in files within the specified folder and its subfolders in parallel\n",
    "found_files = []\n",
    "problematic_files = []  # To store the paths of problematic files\n",
    "with ThreadPoolExecutor(max_workers=4) as executor:  # Adjust max_workers based on your system\n",
    "    for root, _, files in os.walk(folder_path):\n",
    "        for file_extension in ['*.pdf', '*.docx', '*.xlsx']:\n",
    "            files = glob.glob(os.path.join(root, file_extension))\n",
    "            for file in files:\n",
    "                try:\n",
    "                    # Check if the file exists before attempting to process it\n",
    "                    if os.path.exists(file):\n",
    "                        future = executor.submit(\n",
    "                            search_pdf if file_extension == '*.pdf' else\n",
    "                            search_word if file_extension == '*.docx' else\n",
    "                            search_excel,\n",
    "                            file,\n",
    "                            keywords\n",
    "                        )\n",
    "                        sentences = future.result()\n",
    "                        if sentences:\n",
    "                            found_files.append((file, sentences))\n",
    "                    else:\n",
    "                        print(f\"File not found: {file}\")\n",
    "                except Exception as e:\n",
    "                    print(f\"Error processing file {file}: {e}\")\n",
    "                    problematic_files.append(file)\n",
    "\n",
    "# Print the paths of problematic files\n",
    "if problematic_files:\n",
    "    print(\"Problematic files:\")\n",
    "    for file_path in problematic_files:\n",
    "        print(file_path)\n",
    "\n",
    "# Print the paths of files containing keywords and the sentences\n",
    "if found_files:\n",
    "    print(\"Files containing keywords:\")\n",
    "    for file_path, sentences in found_files:\n",
    "        print(f\"File: {file_path}\")\n",
    "        print(\"Sentences:\")\n",
    "        for sentence in sentences:\n",
    "            print(sentence)\n",
    "        print()\n",
    "else:\n",
    "    print(\"No files containing keywords found in the specified folder.\")\n"
   ]
  }
 ],
 "metadata": {
  "kernelspec": {
   "display_name": "Python 3 (ipykernel)",
   "language": "python",
   "name": "python3"
  },
  "language_info": {
   "codemirror_mode": {
    "name": "ipython",
    "version": 3
   },
   "file_extension": ".py",
   "mimetype": "text/x-python",
   "name": "python",
   "nbconvert_exporter": "python",
   "pygments_lexer": "ipython3",
   "version": "3.11.4"
  }
 },
 "nbformat": 4,
 "nbformat_minor": 5
}
